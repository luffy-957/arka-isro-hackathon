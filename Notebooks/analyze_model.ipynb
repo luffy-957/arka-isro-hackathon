{
 "cells": [
  {
   "cell_type": "code",
   "execution_count": null,
   "id": "61c2c402-0891-4772-9772-80ee4486a69d",
   "metadata": {},
   "outputs": [],
   "source": [
    "import sys\n",
    "import os\n",
    "sys.path.append(os.path.abspath('..'))\n",
    "\n",
    "from Scripts.data_loader import load_blk_data, load_th1_data\n",
    "from Scripts.model import label_cme_occurrences, train_cme_model\n",
    "from datetime import datetime\n",
    "import matplotlib.pyplot as plt\n",
    "import pandas as pd\n",
    "\n",
    "# Load data\n",
    "blk_df = load_blk_data()\n",
    "th1_df = load_th1_data()\n",
    "\n",
    "blk_df['time'] = pd.to_datetime(blk_df['time']).dt.tz_localize(None)\n",
    "th1_df['time'] = pd.to_datetime(th1_df['time']).dt.tz_localize(None)\n",
    "\n",
    "# Merge datasets on time\n",
    "df = blk_df.merge(th1_df, on='time', how='inner')\n",
    "\n",
    "# Load CACTus CME times (you can extract these from the raw text using your parser)\n",
    "from Scripts.cactusHandler import parse_cactus_file\n",
    "cme_times = parse_cactus_file('../data/cmecat.txt')\n",
    "\n",
    "df_labeled = label_cme_occurrences(df, cme_times)\n",
    "\n",
    "# Train model\n",
    "model = train_cme_model(df_labeled)\n",
    "\n",
    "# Visualize CME prediction\n",
    "plt.figure(figsize=(15, 5))\n",
    "plt.plot(df_labeled['time'], df_labeled['cme'], label=\"Actual CME\")\n",
    "for t in cme_times:\n",
    "    plt.axvline(t, color='red', linestyle='--', alpha=0.5)\n",
    "plt.title(\"CME Label Distribution\")\n",
    "plt.legend()\n",
    "plt.show()\n"
   ]
  },
  {
   "cell_type": "code",
   "execution_count": null,
   "id": "26d5be79-661c-4847-84cf-20293bf82562",
   "metadata": {},
   "outputs": [],
   "source": [
    "print(df_labeled['cme'].value_counts())\n",
    "plt.figure(figsize=(15, 2))\n",
    "plt.plot(df_labeled['time'], df_labeled['cme'], drawstyle='steps-post')\n",
    "plt.title(\"CME Label Timeline (check if too many positives)\")\n",
    "plt.show()\n"
   ]
  },
  {
   "cell_type": "code",
   "execution_count": null,
   "id": "a71b3ff1-99d5-42e8-a9b0-060d37859bcf",
   "metadata": {},
   "outputs": [],
   "source": [
    "# Train model and get predictions\n",
    "model, X_test, y_test, y_pred = train_cme_model(df_labeled)\n",
    "\n",
    "# Plot\n",
    "plt.figure(figsize=(15, 6))\n",
    "\n",
    "# Time index for plotting\n",
    "test_times = df_labeled.loc[y_test.index, 'time']\n",
    "\n",
    "plt.plot(test_times, y_test.values, label=\"Actual CME\", drawstyle='steps-mid')\n",
    "plt.plot(test_times, y_pred, label=\"Predicted CME\", linestyle='--', drawstyle='steps-mid')\n",
    "\n",
    "plt.title(\"Actual vs Predicted CME Events\")\n",
    "plt.xlabel(\"Time\")\n",
    "plt.ylabel(\"CME Occurrence\")\n",
    "plt.legend()\n",
    "plt.grid(True)\n",
    "plt.tight_layout()\n",
    "plt.show()\n"
   ]
  },
  {
   "cell_type": "code",
   "execution_count": null,
   "id": "9c773aec-004f-4c34-86bd-c823c370ad27",
   "metadata": {},
   "outputs": [],
   "source": []
  }
 ],
 "metadata": {
  "kernelspec": {
   "display_name": "Python 3 (ipykernel)",
   "language": "python",
   "name": "python3"
  },
  "language_info": {
   "codemirror_mode": {
    "name": "ipython",
    "version": 3
   },
   "file_extension": ".py",
   "mimetype": "text/x-python",
   "name": "python",
   "nbconvert_exporter": "python",
   "pygments_lexer": "ipython3",
   "version": "3.12.3"
  }
 },
 "nbformat": 4,
 "nbformat_minor": 5
}
